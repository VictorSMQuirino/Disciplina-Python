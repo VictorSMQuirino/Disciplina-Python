{
 "cells": [
  {
   "cell_type": "markdown",
   "id": "6c9c1b9b-a96c-4726-b9fb-f326bdd51ca4",
   "metadata": {
    "tags": []
   },
   "source": [
    "## Exercício 2 - Manipulação de variáveis de tipo inteiro, explorando as características e os limites."
   ]
  },
  {
   "cell_type": "code",
   "execution_count": null,
   "id": "bdab0ddd-f272-411d-b8c7-1779f37339be",
   "metadata": {
    "tags": []
   },
   "outputs": [],
   "source": [
    "#Operadores aritméticos\n",
    "\n",
    "a = 1 + 2 #Operador de adição\n",
    "print('a = ', a) # O resultado será a soma entre 1 e 2\n",
    "b = 5 - 4 #Operador de subtração\n",
    "print('b = ', b) # O resultado será a subtração entre 5 e 4\n",
    "c = 2 * 3 #Operador de multiplicação\n",
    "print('c = ', c) # O resultado será a multiplicação entre 2 e 3\n",
    "d = 6 / 4 #Operador de divisão real\n",
    "print('d = ', d) # O resultado será a divisão entre 6 e 3\n",
    "e = 7 // 2 #Operador de devisão truncada\n",
    "print('e = ', e) # O resultado será a devisão truncada entre 5 e 2 com a parte fracionária removida\n",
    "f = 8 % 5 #Operador módulo\n",
    "print('f = ', f) #O resultado será o resto da divisão entre 5 e 3\n",
    "g = 2 ** 3 #Operador de exponenciação\n",
    "print('g = ', g) #O resultado será 2 elevado a 3ª potência\n",
    "\n",
    "print()\n",
    "#Operadores aritméticos compostos\n",
    "a += 3 #Operador de atribuição de adição\n",
    "print('a = ', a)  #O resultado será o valor anterior de a, somado 3\n",
    "b -= 1 #Operador de taribuição de subtração\n",
    "print('b = ', b) #O resultado será o valor anterior de b, subtraído 1\n",
    "c *= 4 #Operador de atribuição de multiplicação\n",
    "print('c = ', c) #O resultado será o valor anterior de c, multiplicado por 4\n",
    "d /= 2 #Operador de atribuição de divisão\n",
    "print('d = ', d) #O resultado será o valor anterior de d, dividido popr 2\n",
    "e //= 2 #Operador de atribuição de divisão truncada\n",
    "print('e = ', e) # Oresultado será o valor anterior de 3, dividido por 2 desconsiderando a parte fracionária\n",
    "f %= 2 #Operador de atribuição do módulo\n",
    "print('f = ', f) #O resultado será o resto da divisão do valor anterior de f por 2\n",
    "g **= 2 #Operador de atribuição de exponenciação\n",
    "print('g = ', g) #O resultado será o valor anterior de g, elevado a 2ª potência"
   ]
  },
  {
   "cell_type": "raw",
   "id": "644631bc-3339-47a4-8a66-e093638e6438",
   "metadata": {},
   "source": [
    "A maioria destes operadores podem ser utilizados em C++, com exceção do operador de exponenciação.\n",
    "\n",
    "É possível representar um valor inteiro significativamente grande em Python, como por exemplo o fatorial de 30:"
   ]
  },
  {
   "cell_type": "code",
   "execution_count": 17,
   "id": "2446ca26-e506-44e3-ad80-e4407019e12f",
   "metadata": {
    "tags": []
   },
   "outputs": [
    {
     "name": "stdout",
     "output_type": "stream",
     "text": [
      "O fatorial de 30 =  265252859812191058636308480000000\n"
     ]
    }
   ],
   "source": [
    "def fatorial(n):\n",
    "    valor = 1\n",
    "    for i in range(1, 31):\n",
    "        valor *= i\n",
    "    return valor\n",
    "\n",
    "fatorial_30 = fatorial(30)\n",
    "print ('O fatorial de 30 = ', fatorial_30)"
   ]
  },
  {
   "cell_type": "raw",
   "id": "7d6450fb-385b-4996-9246-a4daabb44af7",
   "metadata": {},
   "source": [
    "O valor máximo que pode ser atribuído para um inteiro em C++ é: 2147483647"
   ]
  },
  {
   "cell_type": "raw",
   "id": "3108d3da-cc86-4384-ad1c-37768b3b4a04",
   "metadata": {},
   "source": [
    "Os métodos disponíveis para as variáveis inteiras são os seguintes:"
   ]
  },
  {
   "cell_type": "code",
   "execution_count": 20,
   "id": "70ba891e-0ba4-47b5-9826-a6935277c35b",
   "metadata": {
    "tags": []
   },
   "outputs": [
    {
     "data": {
      "text/plain": [
       "['__abs__',\n",
       " '__add__',\n",
       " '__and__',\n",
       " '__bool__',\n",
       " '__ceil__',\n",
       " '__class__',\n",
       " '__delattr__',\n",
       " '__dir__',\n",
       " '__divmod__',\n",
       " '__doc__',\n",
       " '__eq__',\n",
       " '__float__',\n",
       " '__floor__',\n",
       " '__floordiv__',\n",
       " '__format__',\n",
       " '__ge__',\n",
       " '__getattribute__',\n",
       " '__getnewargs__',\n",
       " '__getstate__',\n",
       " '__gt__',\n",
       " '__hash__',\n",
       " '__index__',\n",
       " '__init__',\n",
       " '__init_subclass__',\n",
       " '__int__',\n",
       " '__invert__',\n",
       " '__le__',\n",
       " '__lshift__',\n",
       " '__lt__',\n",
       " '__mod__',\n",
       " '__mul__',\n",
       " '__ne__',\n",
       " '__neg__',\n",
       " '__new__',\n",
       " '__or__',\n",
       " '__pos__',\n",
       " '__pow__',\n",
       " '__radd__',\n",
       " '__rand__',\n",
       " '__rdivmod__',\n",
       " '__reduce__',\n",
       " '__reduce_ex__',\n",
       " '__repr__',\n",
       " '__rfloordiv__',\n",
       " '__rlshift__',\n",
       " '__rmod__',\n",
       " '__rmul__',\n",
       " '__ror__',\n",
       " '__round__',\n",
       " '__rpow__',\n",
       " '__rrshift__',\n",
       " '__rshift__',\n",
       " '__rsub__',\n",
       " '__rtruediv__',\n",
       " '__rxor__',\n",
       " '__setattr__',\n",
       " '__sizeof__',\n",
       " '__str__',\n",
       " '__sub__',\n",
       " '__subclasshook__',\n",
       " '__truediv__',\n",
       " '__trunc__',\n",
       " '__xor__',\n",
       " 'as_integer_ratio',\n",
       " 'bit_count',\n",
       " 'bit_length',\n",
       " 'conjugate',\n",
       " 'denominator',\n",
       " 'from_bytes',\n",
       " 'imag',\n",
       " 'numerator',\n",
       " 'real',\n",
       " 'to_bytes']"
      ]
     },
     "execution_count": 20,
     "metadata": {},
     "output_type": "execute_result"
    }
   ],
   "source": [
    "dir(int)"
   ]
  },
  {
   "cell_type": "markdown",
   "id": "50ef1b51-cbe9-4682-a824-6c9e879c1cc5",
   "metadata": {},
   "source": [
    "## Exercício 3 - Manipulação de variáveis de tipo string e explorando o uso de print"
   ]
  },
  {
   "cell_type": "code",
   "execution_count": 28,
   "id": "1e419322-e708-41c9-b1a2-0859d2c2edd3",
   "metadata": {
    "tags": []
   },
   "outputs": [
    {
     "name": "stdout",
     "output_type": "stream",
     "text": [
      "0   48   0o60   0x30\n",
      "1   49   0o61   0x31\n",
      "2   50   0o62   0x32\n",
      "3   51   0o63   0x33\n",
      "4   52   0o64   0x34\n",
      "5   53   0o65   0x35\n",
      "6   54   0o66   0x36\n",
      "7   55   0o67   0x37\n",
      "8   56   0o70   0x38\n",
      "9   57   0o71   0x39\n"
     ]
    }
   ],
   "source": [
    "#Exibindo o código numérico da tabela ASCII dos numeros 0 a 9\n",
    "for i in range(10):\n",
    "    print(i, ' ', ord(str(i)), ' ', oct(ord(str(i))), ' ', hex(ord(str(i))))\n",
    "    "
   ]
  },
  {
   "cell_type": "code",
   "execution_count": 32,
   "id": "a9e6ab89-202f-4107-9cdb-c136e9cb969e",
   "metadata": {
    "tags": []
   },
   "outputs": [
    {
     "name": "stdout",
     "output_type": "stream",
     "text": [
      "Digite um caractere:  "
     ]
    },
    {
     "name": "stdin",
     "output_type": "stream",
     "text": [
      " 5\n"
     ]
    },
    {
     "name": "stdout",
     "output_type": "stream",
     "text": [
      "5   53   0o65   0x35\n"
     ]
    }
   ],
   "source": [
    "print('Digite um caractere: ', end=' ')\n",
    "i = input()\n",
    "print(i, ' ', ord(str(i)), ' ', oct(ord(str(i))), ' ', hex(ord(str(i))))"
   ]
  },
  {
   "cell_type": "code",
   "execution_count": 33,
   "id": "e08aa278-76ba-44e4-9da4-f2aca59fa2da",
   "metadata": {
    "tags": []
   },
   "outputs": [
    {
     "name": "stdout",
     "output_type": "stream",
     "text": [
      "maçã\n"
     ]
    }
   ],
   "source": [
    "str = 'maçã'\n",
    "print(str)"
   ]
  },
  {
   "cell_type": "markdown",
   "id": "ed2fe33f-1f21-4b70-a6ce-3c868782176b",
   "metadata": {},
   "source": [
    "## Exercício 4 - Manipulação de variáveis de tipo string e explorando os métodos da classe"
   ]
  },
  {
   "cell_type": "code",
   "execution_count": 34,
   "id": "618d1d31-964a-4dd0-ad12-cc629b210d70",
   "metadata": {
    "tags": []
   },
   "outputs": [
    {
     "name": "stdout",
     "output_type": "stream",
     "text": [
      "Víctor\n",
      "Souza Moreira Quirino\n"
     ]
    }
   ],
   "source": [
    "nome = 'Víctor Souza Moreira Quirino'\n",
    "nome, sobrenome = nome.split(maxsplit=1)\n",
    "print(nome)\n",
    "print(sobrenome)"
   ]
  },
  {
   "cell_type": "code",
   "execution_count": 36,
   "id": "95dbb976-b21b-4b1e-ac0b-73adb696e36d",
   "metadata": {
    "tags": []
   },
   "outputs": [
    {
     "name": "stdout",
     "output_type": "stream",
     "text": [
      "Souza Moreira Quirino\n"
     ]
    }
   ],
   "source": [
    "primeiraStr = min([nome, sobrenome])\n",
    "print(primeiraStr)"
   ]
  },
  {
   "cell_type": "code",
   "execution_count": 38,
   "id": "b901c2bf-e4e5-4380-afc6-45e759963186",
   "metadata": {
    "tags": []
   },
   "outputs": [
    {
     "name": "stdout",
     "output_type": "stream",
     "text": [
      "6\n",
      "21\n"
     ]
    }
   ],
   "source": [
    "print(len(nome))\n",
    "print(len(sobrenome))"
   ]
  },
  {
   "cell_type": "code",
   "execution_count": 41,
   "id": "f5301fd9-4cea-49c9-b2ac-c49adf716f8f",
   "metadata": {
    "tags": []
   },
   "outputs": [
    {
     "name": "stdout",
     "output_type": "stream",
     "text": [
      "False\n"
     ]
    }
   ],
   "source": [
    "print(nome == nome[::-1])"
   ]
  },
  {
   "cell_type": "markdown",
   "id": "a659f560-ba3f-4771-a7ae-27c9dc76a80b",
   "metadata": {},
   "source": [
    "## Exercício 5 - Manipulação de variáveis de ponto flutuante, explorando as características e limites"
   ]
  },
  {
   "cell_type": "code",
   "execution_count": 42,
   "id": "42ff90ac-57f5-4b4e-8b55-cdb961ae976e",
   "metadata": {
    "tags": []
   },
   "outputs": [
    {
     "data": {
      "text/plain": [
       "['__abs__',\n",
       " '__add__',\n",
       " '__bool__',\n",
       " '__ceil__',\n",
       " '__class__',\n",
       " '__delattr__',\n",
       " '__dir__',\n",
       " '__divmod__',\n",
       " '__doc__',\n",
       " '__eq__',\n",
       " '__float__',\n",
       " '__floor__',\n",
       " '__floordiv__',\n",
       " '__format__',\n",
       " '__ge__',\n",
       " '__getattribute__',\n",
       " '__getformat__',\n",
       " '__getnewargs__',\n",
       " '__getstate__',\n",
       " '__gt__',\n",
       " '__hash__',\n",
       " '__init__',\n",
       " '__init_subclass__',\n",
       " '__int__',\n",
       " '__le__',\n",
       " '__lt__',\n",
       " '__mod__',\n",
       " '__mul__',\n",
       " '__ne__',\n",
       " '__neg__',\n",
       " '__new__',\n",
       " '__pos__',\n",
       " '__pow__',\n",
       " '__radd__',\n",
       " '__rdivmod__',\n",
       " '__reduce__',\n",
       " '__reduce_ex__',\n",
       " '__repr__',\n",
       " '__rfloordiv__',\n",
       " '__rmod__',\n",
       " '__rmul__',\n",
       " '__round__',\n",
       " '__rpow__',\n",
       " '__rsub__',\n",
       " '__rtruediv__',\n",
       " '__setattr__',\n",
       " '__sizeof__',\n",
       " '__str__',\n",
       " '__sub__',\n",
       " '__subclasshook__',\n",
       " '__truediv__',\n",
       " '__trunc__',\n",
       " 'as_integer_ratio',\n",
       " 'conjugate',\n",
       " 'fromhex',\n",
       " 'hex',\n",
       " 'imag',\n",
       " 'is_integer',\n",
       " 'real']"
      ]
     },
     "execution_count": 42,
     "metadata": {},
     "output_type": "execute_result"
    }
   ],
   "source": [
    "pi = 3.14\n",
    "dir(pi)"
   ]
  },
  {
   "cell_type": "markdown",
   "id": "923ab2ef-1d22-4a0c-927c-35b6238ba80c",
   "metadata": {},
   "source": [
    "## Exercício 6 - Manipulaçãp de variáveis de ponto flutuante, explorando as características e os limites"
   ]
  },
  {
   "cell_type": "code",
   "execution_count": 43,
   "id": "7de6db82-9994-4b5e-b977-79f220f40fff",
   "metadata": {
    "tags": []
   },
   "outputs": [
    {
     "name": "stdout",
     "output_type": "stream",
     "text": [
      "[9, 8, 7, 6, 5, 4, 3, 2, 1]\n",
      "[9]\n",
      "[1, 2, 3, 4, 5, 6, 7, 8]\n",
      "[9, 7, 5, 3, 1]\n",
      "[8, 9]\n",
      "[1, 2, 3, 4, 5, 6, 7]\n"
     ]
    }
   ],
   "source": [
    "L = [1, 2, 3, 4, 5, 6, 7, 8, 9]\n",
    "print(L[::-1])\n",
    "print(L[-1::])\n",
    "print(L[:-1:])\n",
    "print(L[::-2])\n",
    "print(L[-2::])\n",
    "print(L[:-2:])"
   ]
  },
  {
   "cell_type": "code",
   "execution_count": 47,
   "id": "a2c139f6-ba71-4932-b678-8732e2ab6ab6",
   "metadata": {
    "tags": []
   },
   "outputs": [
    {
     "name": "stdout",
     "output_type": "stream",
     "text": [
      "Digite o seu mês de nascimento (1 - 12):\n"
     ]
    },
    {
     "name": "stdin",
     "output_type": "stream",
     "text": [
      " 7\n"
     ]
    },
    {
     "ename": "TypeError",
     "evalue": "list indices must be integers or slices, not str",
     "output_type": "error",
     "traceback": [
      "\u001b[0;31m---------------------------------------------------------------------------\u001b[0m",
      "\u001b[0;31mTypeError\u001b[0m                                 Traceback (most recent call last)",
      "Cell \u001b[0;32mIn[47], line 4\u001b[0m\n\u001b[1;32m      2\u001b[0m \u001b[38;5;28mprint\u001b[39m(\u001b[38;5;124m'\u001b[39m\u001b[38;5;124mDigite o seu mês de nascimento (1 - 12):\u001b[39m\u001b[38;5;124m'\u001b[39m)\n\u001b[1;32m      3\u001b[0m mes \u001b[38;5;241m=\u001b[39m \u001b[38;5;28minput\u001b[39m()\n\u001b[0;32m----> 4\u001b[0m \u001b[38;5;28mprint\u001b[39m(signos[mes])\n",
      "\u001b[0;31mTypeError\u001b[0m: list indices must be integers or slices, not str"
     ]
    }
   ],
   "source": [
    "signos = ['Macaco', 'Galo', 'Cão', 'Porco', 'Rato', 'Boi', 'Tigre', 'Coelho', 'Dragão', 'Serpente', 'Cavalo', 'Carneiro']\n",
    "print('Digite o seu mês de nascimento (1 - 12):')\n",
    "mes = input()\n",
    "print(signos[int(mes)])"
   ]
  },
  {
   "cell_type": "code",
   "execution_count": null,
   "id": "24127ecc-5f91-4f99-bcf4-53cb87b61441",
   "metadata": {},
   "outputs": [],
   "source": []
  }
 ],
 "metadata": {
  "kernelspec": {
   "display_name": "Python 3 (ipykernel)",
   "language": "python",
   "name": "python3"
  },
  "language_info": {
   "codemirror_mode": {
    "name": "ipython",
    "version": 3
   },
   "file_extension": ".py",
   "mimetype": "text/x-python",
   "name": "python",
   "nbconvert_exporter": "python",
   "pygments_lexer": "ipython3",
   "version": "3.11.5"
  }
 },
 "nbformat": 4,
 "nbformat_minor": 5
}
